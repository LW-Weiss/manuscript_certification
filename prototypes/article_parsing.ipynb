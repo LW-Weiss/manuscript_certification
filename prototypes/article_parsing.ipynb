{
 "cells": [
  {
   "cell_type": "code",
   "execution_count": 5,
   "id": "31a64d7e",
   "metadata": {},
   "outputs": [],
   "source": [
    "from docling.document_converter import DocumentConverter\n",
    "import os\n",
    "import glob"
   ]
  },
  {
   "cell_type": "code",
   "execution_count": 8,
   "id": "e01a9ef2",
   "metadata": {},
   "outputs": [
    {
     "name": "stderr",
     "output_type": "stream",
     "text": [
      "2025-09-07 16:53:33,435 - INFO - detected formats: [<InputFormat.PDF: 'pdf'>]\n",
      "2025-09-07 16:53:33,437 - INFO - Going to convert document batch...\n",
      "2025-09-07 16:53:33,437 - INFO - Initializing pipeline for StandardPdfPipeline with options hash 409740a308d273b3f090712d250cd783\n",
      "2025-09-07 16:53:33,437 - INFO - Accelerator device: 'cuda:0'\n",
      "2025-09-07 16:53:34,439 - INFO - Accelerator device: 'cuda:0'\n",
      "2025-09-07 16:53:35,029 - INFO - Accelerator device: 'cuda:0'\n",
      "2025-09-07 16:53:35,229 - INFO - Processing document Coelho e Carvalho - 2015 - Estimating the Attack Ratio of Dengue Epidemics un.pdf\n",
      "2025-09-07 16:53:38,766 - INFO - Finished converting document Coelho e Carvalho - 2015 - Estimating the Attack Ratio of Dengue Epidemics un.pdf in 5.33 sec.\n"
     ]
    },
    {
     "name": "stdout",
     "output_type": "stream",
     "text": [
      "../PDFs/Coelho e Carvalho - 2015 - Estimating the Attack Ratio of Dengue Epidemics un.pdf\n",
      "Artigo salvo como Markdown\n"
     ]
    }
   ],
   "source": [
    "for pdf in glob.glob('../PDFs/*.pdf'):\n",
    "    converter = DocumentConverter()\n",
    "    doc = converter.convert(pdf).document\n",
    "    print(pdf)\n",
    "    with open(pdf.replace('.pdf','.md'),'w') as f:\n",
    "        f.write(doc.export_to_markdown())\n",
    "        print (\"Artigo salvo como Markdown\")\n"
   ]
  },
  {
   "cell_type": "code",
   "execution_count": null,
   "id": "f9a49a61",
   "metadata": {},
   "outputs": [],
   "source": []
  }
 ],
 "metadata": {
  "kernelspec": {
   "display_name": "manuscript-certification (3.12.8)",
   "language": "python",
   "name": "python3"
  },
  "language_info": {
   "codemirror_mode": {
    "name": "ipython",
    "version": 3
   },
   "file_extension": ".py",
   "mimetype": "text/x-python",
   "name": "python",
   "nbconvert_exporter": "python",
   "pygments_lexer": "ipython3",
   "version": "3.12.8"
  }
 },
 "nbformat": 4,
 "nbformat_minor": 5
}
